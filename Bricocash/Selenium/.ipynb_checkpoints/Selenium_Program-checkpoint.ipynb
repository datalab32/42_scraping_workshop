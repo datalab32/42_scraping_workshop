{
 "cells": [
  {
   "cell_type": "code",
   "execution_count": null,
   "metadata": {},
   "outputs": [],
   "source": [
    "from selenium import webdriver\n",
    "from selenium.webdriver.common.keys import Keys\n",
    "import pandas\n",
    "from unidecode import unidecode\n",
    "import datetime\n",
    "from selenium.webdriver.common.by import By\n",
    "from selenium.webdriver.support.ui import WebDriverWait\n",
    "from selenium.webdriver.support import expected_conditions as EC"
   ]
  },
  {
   "cell_type": "code",
   "execution_count": null,
   "metadata": {},
   "outputs": [],
   "source": [
    "def ini_data():\n",
    "    data = {\n",
    "        'Id Magasin':[],\n",
    "        'Enseigne':[],\n",
    "        'Code Produit':[],\n",
    "        'Libelle':[],\n",
    "        'Prix':[],\n",
    "        'Prix Unitaire':[],\n",
    "        'Unite Px Unitaire':[],\n",
    "        'Prix Num':[],\n",
    "        'DateRecup':[],\n",
    "        'HeureRecup':[],\n",
    "        'Lien Photo':[],\n",
    "        'Lien':[],\n",
    "    }\n",
    "    return data"
   ]
  },
  {
   "cell_type": "code",
   "execution_count": null,
   "metadata": {},
   "outputs": [],
   "source": [
    "ref_ids = \"\"\"92010366\n",
    "92011384\n",
    "92012423\n",
    "92025294\n",
    "92025294\n",
    "92020900\n",
    "92002347\n",
    "92009897\n",
    "92009897\n",
    "92013184\n",
    "25023108\n",
    "92025060\n",
    "92025062\"\"\"\n",
    "ref_ids = ref_ids.split(\"\\n\")"
   ]
  },
  {
   "cell_type": "code",
   "execution_count": null,
   "metadata": {},
   "outputs": [],
   "source": [
    "def get_subitems(driver):\n",
    "    sub_items = driver.find_elements_by_xpath(\"//tr[@class='ligne-multiproduit']\")\n",
    "    return sub_items\n",
    "    \n",
    "def get_libelle(driver):\n",
    "    lib = WebDriverWait(driver, 20).until(EC.element_to_be_clickable((By.XPATH, \"//div[@class='product-name']\")))\n",
    "    #lib = driver.find_element_by_xpath(\"//div[@class='product-name']\")\n",
    "    return lib.text.strip()\n",
    "\n",
    "def get_sublibelle(item, items_cuant):\n",
    "    if not items_cuant:\n",
    "        return \"\"\n",
    "    lib1 = item.find_element_by_xpath(\"td\")\n",
    "    return lib1.text.strip()\n",
    "\n",
    "def get_main_prix(item):\n",
    "    price = item.find_element_by_xpath(\".//span[@class='price']\")\n",
    "    if not price:\n",
    "        return \"-\"\n",
    "    else:\n",
    "        return unidecode(price.text.strip())\n",
    "\n",
    "def get_ref(item, items_cuant, ref):\n",
    "    if not items_cuant:\n",
    "        return ref\n",
    "    ref2 = item.find_element_by_xpath(\"td[@class='sku']\")\n",
    "    return ref2.text.strip()\n",
    "    \n",
    "def get_prix_per_unit(item):\n",
    "    price2 = item.find_elements_by_xpath(\".//span[@class='price-total ']\")\n",
    "    if price2 and \"soit\" in price2[0].text and \"/\" in price2[0].text:\n",
    "        return unidecode(price2[0].text.split(\"soit\")[1])\n",
    "    return \"-\"\n",
    "\n",
    "def get_prix_unit(item):\n",
    "    price2 = item.find_elements_by_xpath(\".//span[@class='price-total ']\")\n",
    "    if price2 and \"soit\" in price2[0].text and \"/\" in price2[0].text:\n",
    "        return price2[0].text.split(\"/\")[1]\n",
    "    return \"-\"\n",
    "\n",
    "def get_photo(driver):\n",
    "    photo = driver.find_element_by_xpath(\"//div[@class='zoomPad']/img\")\n",
    "    return photo.get_attribute(\"src\")\n"
   ]
  },
  {
   "cell_type": "code",
   "execution_count": null,
   "metadata": {},
   "outputs": [],
   "source": [
    "def scrap_products(driver, data, ref):\n",
    "    while True:\n",
    "        check = WebDriverWait(driver, 20).until(EC.element_to_be_clickable((By.XPATH, \"//div[@class='block-search']\"))) \n",
    "        if ref in check.text:\n",
    "            break\n",
    "    action = webdriver.ActionChains(driver)\n",
    "    prod = WebDriverWait(driver, 20).until(EC.element_to_be_clickable((By.XPATH, \"//li[@class='item first']\")))\n",
    "    action.move_by_offset(1, 1).perform()\n",
    "    action.move_to_element(prod).perform()\n",
    "    prod.click()\n",
    "    obtain_info(driver, data, ref)"
   ]
  },
  {
   "cell_type": "code",
   "execution_count": null,
   "metadata": {},
   "outputs": [],
   "source": [
    "def obtain_info(driver, data, ref):\n",
    "    while True:\n",
    "        try:\n",
    "            libelle = get_libelle(driver)\n",
    "            photo = get_photo(driver)\n",
    "            items = get_subitems(driver)\n",
    "            break\n",
    "        except Exception as e:\n",
    "            pass\n",
    "    if not items:\n",
    "        items = [driver]\n",
    "    for item in items:\n",
    "        data[\"Id Magasin\"].append(shop_id)\n",
    "        data[\"Enseigne\"].append(shop_city)\n",
    "        data[\"Code Produit\"].append(get_ref(item, len(items) - 1, ref))\n",
    "        data[\"Libelle\"].append(\" \".join([libelle] + [get_sublibelle(item, len(items) - 1)]))\n",
    "        data[\"Prix\"].append(get_main_prix(item))\n",
    "        data[\"Prix Unitaire\"].append(get_prix_per_unit(item))\n",
    "        data[\"Unite Px Unitaire\"].append(get_prix_unit(item))\n",
    "        data[\"Prix Num\"].append(\".\".join(data[\"Prix\"][-1].split(\"€\")))\n",
    "        data[\"DateRecup\"].append(datetime.datetime.today().strftime(\"%Y/%m/%d\"))\n",
    "        data[\"HeureRecup\"].append(datetime.datetime.today().strftime(\"%H:%M:%S.%s\"))\n",
    "        data[\"Lien Photo\"].append(photo)\n",
    "        data[\"Lien\"].append(driver.current_url)"
   ]
  },
  {
   "cell_type": "code",
   "execution_count": null,
   "metadata": {},
   "outputs": [],
   "source": [
    "shop_id = \"miramas\"\n",
    "shop_city = \"Miramas\"\n",
    "data = ini_data()\n",
    "driver = webdriver.Firefox()\n",
    "driver.get(f\"https://www.bricocash.fr/{shop_id}?___store={shop_id}\")\n",
    "for ref in ref_ids:\n",
    "    searchbar = driver.find_element_by_id('search')\n",
    "    searchbar.send_keys(Keys.CONTROL + 'a')\n",
    "    searchbar.send_keys(Keys.BACKSPACE)\n",
    "    searchbar.send_keys(ref)\n",
    "    searchbar.send_keys(Keys.ENTER)\n",
    "    scrap_products(driver, data, ref)\n",
    "driver.close()\n",
    "driver.quit()\n",
    "pandas.DataFrame(data).to_csv(f\"output_bricocash.csv\", sep=';', index=False)\n"
   ]
  },
  {
   "cell_type": "code",
   "execution_count": null,
   "metadata": {},
   "outputs": [],
   "source": [
    "df = pandas.DataFrame(data)"
   ]
  },
  {
   "cell_type": "code",
   "execution_count": null,
   "metadata": {},
   "outputs": [],
   "source": [
    "df"
   ]
  },
  {
   "cell_type": "code",
   "execution_count": null,
   "metadata": {},
   "outputs": [],
   "source": []
  }
 ],
 "metadata": {
  "kernelspec": {
   "display_name": "Python 3",
   "language": "python",
   "name": "python3"
  },
  "language_info": {
   "codemirror_mode": {
    "name": "ipython",
    "version": 3
   },
   "file_extension": ".py",
   "mimetype": "text/x-python",
   "name": "python",
   "nbconvert_exporter": "python",
   "pygments_lexer": "ipython3",
   "version": "3.9.0"
  }
 },
 "nbformat": 4,
 "nbformat_minor": 4
}

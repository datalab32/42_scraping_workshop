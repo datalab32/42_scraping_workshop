{
 "cells": [
  {
   "cell_type": "code",
   "execution_count": 54,
   "metadata": {},
   "outputs": [],
   "source": [
    "import requests\n",
    "from bs4 import BeautifulSoup\n",
    "from unidecode import unidecode\n",
    "import datetime\n",
    "import pandas"
   ]
  },
  {
   "cell_type": "code",
   "execution_count": null,
   "metadata": {},
   "outputs": [],
   "source": [
    "ref_ids = \"\"\"92010366\n",
    "92011384\n",
    "92012423\n",
    "92025294\n",
    "92025294\n",
    "92020900\n",
    "92002347\n",
    "92009897\n",
    "92009897\n",
    "92013184\n",
    "25023108\n",
    "92025060\n",
    "92025062\"\"\"\n",
    "ref_ids = ref_ids.split(\"\\n\")"
   ]
  },
  {
   "cell_type": "code",
   "execution_count": null,
   "metadata": {},
   "outputs": [],
   "source": [
    "def get_html(url):\n",
    "    global actual_proxy\n",
    "    while True:\n",
    "#         html = requests.get(url, proxies = get_proxy(), timeout=5)\n",
    "        html = requests.get(url)\n",
    "        if html.status_code == 200:\n",
    "            return html\n",
    "        elif html.status_code == 542:\n",
    "            time.sleep(2)\n",
    "        else:\n",
    "            return \"-\""
   ]
  },
  {
   "cell_type": "code",
   "execution_count": 72,
   "metadata": {},
   "outputs": [],
   "source": [
    "def get_subitems(html):\n",
    "\n",
    "    \n",
    "def get_libelle(html):\n",
    "\n",
    "\n",
    "def get_sublibelle(item, mode):\n",
    "\n",
    "\n",
    "def get_main_prix(item):\n",
    "\n",
    "\n",
    "def get_prix_per_unit(item):\n",
    "\n",
    "\n",
    "def get_prix_unit(item):\n",
    "\n",
    "\n",
    "def get_photo(item, html_mode, libelle):\n",
    "\n"
   ]
  },
  {
   "cell_type": "code",
   "execution_count": 19,
   "metadata": {},
   "outputs": [],
   "source": [
    "def scrap_products(url, data):\n",
    "    sample = get_html(url)\n",
    "    html = BeautifulSoup(sample.content.decode('utf-8', 'ignore'))\n",
    "    items = get_items(html)\n",
    "    url_item = get_url(items[0])\n",
    "    obtain_info(url_item, data)"
   ]
  },
  {
   "cell_type": "code",
   "execution_count": 65,
   "metadata": {},
   "outputs": [],
   "source": [
    "def obtain_info(url, data, ref):\n",
    "    sample = get_html(url + \"?frz-smartcache-fragment=true&frz-timeout=5000&frz-smartcache-v=2&frz-smartcache-placeholders-number=3\")\n",
    "    html = sample.text.replace(\"\\\\n\", \"\").replace(\"\\\\\",\"\").replace(\"            \", \" \")\n",
    "    html = html[html.find(\"\\\"fstrz-scss-2\\\":{\\\"content\\\":\") + 27:]\n",
    "    html = BeautifulSoup(html)\n",
    "    libelle = get_libelle(html).strip()\n",
    "    photo = get_photo(html, True, libelle)\n",
    "    items = get_subitems(html)\n",
    "    html_mode = False\n",
    "    if not items:\n",
    "        html_mode = True\n",
    "        items = [html]\n",
    "    for item in items:\n",
    "        data[\"Id Magasin\"].append(shop_id)\n",
    "        data[\"Enseigne\"].append(shop_city)\n",
    "        data[\"Code Produit\"].append(ref)\n",
    "        data[\"Libelle\"].append(\" \".join([libelle] + get_sublibelle(item, html_mode)))\n",
    "        data[\"Prix\"].append(get_main_prix(item))\n",
    "        data[\"Prix Unitaire\"].append(get_prix_per_unit(item))\n",
    "        data[\"Unite Px Unitaire\"].append(get_prix_unit(item))\n",
    "        data[\"Prix Num\"].append(\".\".join(data[\"Prix\"][-1].split(\"€\")))\n",
    "        data[\"DateRecup\"].append(datetime.datetime.today().strftime(\"%Y/%m/%d\"))\n",
    "        data[\"HeureRecup\"].append(datetime.datetime.today().strftime(\"%H:%M:%S.%s\"))\n",
    "        data[\"Lien Photo\"].append(photo)\n",
    "        data[\"Lien\"].append(url)"
   ]
  },
  {
   "cell_type": "code",
   "execution_count": null,
   "metadata": {},
   "outputs": [],
   "source": [
    "shop_id = \"miramas\"\n",
    "shop_city = \"Miramas\"\n",
    "data = ini_data()\n",
    "for ref in ref_ids:\n",
    "    url = f\"http://www.bricocash.fr/{shop_id}/catalogsearch/result/?q={ref}\"\n",
    "    print(url)\n",
    "    scrap_products(url, data)\n",
    "pandas.DataFrame(data).to_csv(f\"output_bricocash.csv\", sep=';', index=False)\n"
   ]
  }
 ],
 "metadata": {
  "kernelspec": {
   "display_name": "Python 3",
   "language": "python",
   "name": "python3"
  },
  "language_info": {
   "codemirror_mode": {
    "name": "ipython",
    "version": 3
   },
   "file_extension": ".py",
   "mimetype": "text/x-python",
   "name": "python",
   "nbconvert_exporter": "python",
   "pygments_lexer": "ipython3",
   "version": "3.8.5"
  }
 },
 "nbformat": 4,
 "nbformat_minor": 4
}

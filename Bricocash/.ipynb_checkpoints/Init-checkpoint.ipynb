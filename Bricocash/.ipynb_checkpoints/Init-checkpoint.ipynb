{
 "cells": [
  {
   "cell_type": "code",
   "execution_count": null,
   "metadata": {},
   "outputs": [],
   "source": [
    "import pandas"
   ]
  },
  {
   "cell_type": "code",
   "execution_count": null,
   "metadata": {},
   "outputs": [],
   "source": [
    "ref_ids = \"\"\"92010366\n",
    "92011384\n",
    "92012423\n",
    "92025294\n",
    "92025294\n",
    "92020900\n",
    "92002347\n",
    "92009897\n",
    "92009897\n",
    "92013184\n",
    "25023108\n",
    "92025060\n",
    "92025062\"\"\"\n",
    "ref_ids = ref_ids.split(\"\\n\")"
   ]
  },
  {
   "cell_type": "code",
   "execution_count": null,
   "metadata": {},
   "outputs": [],
   "source": [
    "def get_html(url):\n",
    "    global actual_proxy\n",
    "    while True:\n",
    "#         html = requests.get(url, proxies = get_proxy(), timeout=5)\n",
    "        html = requests.get(url)\n",
    "        if html.status_code == 200:\n",
    "            return html\n",
    "        elif html.status_code == 542:\n",
    "            time.sleep(2)\n",
    "        else:\n",
    "            return \"-\""
   ]
  },
  {
   "cell_type": "code",
   "execution_count": null,
   "metadata": {},
   "outputs": [],
   "source": [
    "shop_id = \"miramas\"\n",
    "shop_city = \"Miramas\"\n",
    "data = ini_data()\n",
    "for ref in ref_ids:\n",
    "    #Obtain info from ref's object\n",
    "    #Fill data\n",
    "pandas.DataFrame(data).to_csv(f\"output_bricocash.csv\", sep=';', index=False)\n"
   ]
  }
 ],
 "metadata": {
  "kernelspec": {
   "display_name": "Python 3",
   "language": "python",
   "name": "python3"
  },
  "language_info": {
   "codemirror_mode": {
    "name": "ipython",
    "version": 3
   },
   "file_extension": ".py",
   "mimetype": "text/x-python",
   "name": "python",
   "nbconvert_exporter": "python",
   "pygments_lexer": "ipython3",
   "version": "3.8.5"
  }
 },
 "nbformat": 4,
 "nbformat_minor": 4
}

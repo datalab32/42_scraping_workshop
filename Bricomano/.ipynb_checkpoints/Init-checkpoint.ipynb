{
 "cells": [
  {
   "cell_type": "code",
   "execution_count": 54,
   "metadata": {},
   "outputs": [],
   "source": [
    "ref_ids = \"\"\"219254\n",
    "989471\n",
    "1237341\n",
    "960225\n",
    "960225\n",
    "994735\n",
    "133315\n",
    "945462\n",
    "945462\n",
    "966091\n",
    "303835\n",
    "670180\n",
    "670124\"\"\"\n",
    "ref_ids = ref_ids.split(\"\\n\")"
   ]
  },
  {
   "cell_type": "code",
   "execution_count": 55,
   "metadata": {},
   "outputs": [],
   "source": [
    "def ini_data():\n",
    "    data = {\n",
    "        \"Id Magasin\":[],\n",
    "        \"Enseigne\":[],\n",
    "        \"Code Produit\":[],\n",
    "        \"Libelle\":[],\n",
    "        \"Prix\":[],\n",
    "        \"Prix Unitaire\":[],\n",
    "        \"Unite Px Unitaire\":[],\n",
    "        \"Prix Num\":[],\n",
    "        \"DateRecup\":[],\n",
    "        \"HeureRecup\":[],\n",
    "        \"Lien Photo\":[],\n",
    "        \"Lien\":[],\n",
    "    }\n",
    "    return data"
   ]
  }
 ],
 "metadata": {
  "kernelspec": {
   "display_name": "Python 3",
   "language": "python",
   "name": "python3"
  },
  "language_info": {
   "codemirror_mode": {
    "name": "ipython",
    "version": 3
   },
   "file_extension": ".py",
   "mimetype": "text/x-python",
   "name": "python",
   "nbconvert_exporter": "python",
   "pygments_lexer": "ipython3",
   "version": "3.8.5"
  }
 },
 "nbformat": 4,
 "nbformat_minor": 4
}

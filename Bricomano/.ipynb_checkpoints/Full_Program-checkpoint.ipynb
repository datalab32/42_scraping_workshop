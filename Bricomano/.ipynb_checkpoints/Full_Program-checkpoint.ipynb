{
 "cells": [
  {
   "cell_type": "code",
   "execution_count": null,
   "metadata": {},
   "outputs": [],
   "source": [
    "import requests\n",
    "import datetime\n",
    "import pandas"
   ]
  },
  {
   "cell_type": "code",
   "execution_count": null,
   "metadata": {},
   "outputs": [],
   "source": [
    "ref_ids = \"\"\"219254\n",
    "989471\n",
    "1237341\n",
    "960225\n",
    "960225\n",
    "994735\n",
    "133315\n",
    "945462\n",
    "945462\n",
    "966091\n",
    "303835\n",
    "670180\n",
    "670124\"\"\"\n",
    "ref_ids = ref_ids.split(\"\\n\")"
   ]
  },
  {
   "cell_type": "code",
   "execution_count": null,
   "metadata": {},
   "outputs": [],
   "source": [
    "def ini_data():\n",
    "    data = {\n",
    "        \"Id Magasin\":[],\n",
    "        \"Enseigne\":[],\n",
    "        \"Code Produit\":[],\n",
    "        \"Libelle\":[],\n",
    "        \"Prix\":[],\n",
    "        \"Prix Unitaire\":[],\n",
    "        \"Unite Px Unitaire\":[],\n",
    "        \"Prix Num\":[],\n",
    "        \"DateRecup\":[],\n",
    "        \"HeureRecup\":[],\n",
    "        \"Lien Photo\":[],\n",
    "        \"Lien\":[],\n",
    "    }\n",
    "    return data"
   ]
  },
  {
   "cell_type": "markdown",
   "metadata": {},
   "source": [
    "### Take items"
   ]
  },
  {
   "cell_type": "code",
   "execution_count": null,
   "metadata": {},
   "outputs": [],
   "source": [
    "def get_form(r):\n",
    "    form = {\"acp\":{},\"suggest\":{},\"terms\":{\"expression\":r,\"inputSource\":\"keyboard\",\"intentDetection\":{}},\"items\":{\"from\":0,\"size\":15,\"bypassSpellcheck\":False,\"bypassExact\":True},\"prefixQuery\":{},\"filters\":{},\"scopes\":[],\"spotlights\":[],\"sort\":None,\"needShortcuts\":True,\"userIds\":{\"id\":\"0d07d9be-a033-433e-8cf9-3be7c535e1e6\",\"previousId\":None,\"custId\":None,\"isAuthenticated\":False},\"trackFingerPrint\":{\"tracks\":[\"199d6da9-8a1c-4e92-92ac-8e2b58f6a94f\",\"0c50\"],\"environmentId\":159},\"sellerId\":\"040\",\"references\":{\"size\":32}}\n",
    "    return form"
   ]
  },
  {
   "cell_type": "code",
   "execution_count": null,
   "metadata": {},
   "outputs": [],
   "source": [
    "def fill_data(s, data, url):\n",
    "    r = requests.post(url, json=get_form(s['ref']), headers=headers)\n",
    "    item = r.json()['data']['references']['p']\n",
    "    if not item:\n",
    "        return\n",
    "    else:\n",
    "        item = item[0]\n",
    "    data[\"Id Magasin\"].append(s['id'])\n",
    "    data[\"Enseigne\"].append(s['name']) \n",
    "    data[\"Code Produit\"].append(s['ref'])\n",
    "    data[\"Libelle\"].append(item['ttl'])\n",
    "    data[\"Prix\"].append(item['prc'])\n",
    "    data[\"Prix Unitaire\"].append(float(item['prcn']) / float(item.get('c_packaging_quantity', 1)))\n",
    "    data[\"Unite Px Unitaire\"].append(item.get(\"c_packaging_type\", '-'))\n",
    "    data[\"Prix Num\"].append(item['prcn'])\n",
    "    data[\"DateRecup\"].append(datetime.datetime.today().strftime(\"%Y/%m/%d\"))\n",
    "    data[\"HeureRecup\"].append(datetime.datetime.today().strftime(\"%H:%M:%S.%s\"))\n",
    "    pict = item.get('img', '-')\n",
    "    data[\"Lien Photo\"].append(pict)\n",
    "    data[\"Lien\"].append(item['lnk'])"
   ]
  },
  {
   "cell_type": "code",
   "execution_count": null,
   "metadata": {},
   "outputs": [],
   "source": [
    "data = ini_data()\n",
    "shop = \"Massieux\"\n",
    "shop_id = 1\n",
    "s = {\n",
    "    \"name\": shop,\n",
    "    \"id\" : shop_id,\n",
    "    \"ref\" : 0\n",
    "}\n",
    "url = \"https://na.search.sensefuel.com/searchf/be64e824-7125-4451-8190-4c98ee743f65\"\n",
    "for ref in ref_ids:\n",
    "    s['ref'] = ref\n",
    "    print(ref)\n",
    "    fill_data(s, data, url)\n",
    "pandas.DataFrame(data).to_csv(f\"bricoman_output.csv\")\n"
   ]
  },
  {
   "cell_type": "code",
   "execution_count": null,
   "metadata": {},
   "outputs": [],
   "source": [
    "df = pandas.DataFrame(data)"
   ]
  },
  {
   "cell_type": "code",
   "execution_count": null,
   "metadata": {},
   "outputs": [],
   "source": [
    "df"
   ]
  }
 ],
 "metadata": {
  "kernelspec": {
   "display_name": "Python 3",
   "language": "python",
   "name": "python3"
  },
  "language_info": {
   "codemirror_mode": {
    "name": "ipython",
    "version": 3
   },
   "file_extension": ".py",
   "mimetype": "text/x-python",
   "name": "python",
   "nbconvert_exporter": "python",
   "pygments_lexer": "ipython3",
   "version": "3.8.5"
  }
 },
 "nbformat": 4,
 "nbformat_minor": 4
}
